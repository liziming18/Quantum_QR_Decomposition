{
 "cells": [
  {
   "cell_type": "code",
   "execution_count": 1,
   "metadata": {},
   "outputs": [],
   "source": [
    "from utils import *\n",
    "import matplotlib.pyplot as plt"
   ]
  },
  {
   "cell_type": "code",
   "execution_count": 102,
   "metadata": {},
   "outputs": [
    {
     "name": "stdout",
     "output_type": "stream",
     "text": [
      "[0.        +0.j 0.70710678+0.j 0.        +0.j 0.70710678+0.j]\n",
      "[0.        +0.j 0.70710678+0.j]\n"
     ]
    },
    {
     "data": {
      "image/png": "[encoded data removed]",
      "text/plain": [
       "<Figure size 370.906x284.278 with 1 Axes>"
      ]
     },
     "execution_count": 102,
     "metadata": {},
     "output_type": "execute_result"
    }
   ],
   "source": [
    "from qiskit import QuantumCircuit, Aer, execute, QuantumRegister\n",
    "sigma_x = np.array([[0, 1], [1, 0]], dtype=complex)\n",
    "\n",
    "qc = QuantumCircuit(2,1)\n",
    "qc.initialize([1, 1, 1, 1]/np.sqrt(4), [0, 1])\n",
    "# qc.h(0)\n",
    "#qc.cx(0, 1)\n",
    "#qc.hamiltonian(np.kron(sigma_x, sigma_x), np.pi, [0,1], label='Hami')\n",
    "qc.measure(0, 0)\n",
    "\n",
    " \n",
    "simulator = Aer.get_backend('statevector_simulator')\n",
    "job = execute(qc, simulator, shots=1)\n",
    "result = job.result()\n",
    "statevector = result.get_statevector()\n",
    "if '1' in result.get_counts().keys():\n",
    "    statevector = np.asarray(statevector) \n",
    "    print(statevector)\n",
    "    reduced_statevector = statevector[int(len(statevector)/2):]\n",
    "    print(reduced_statevector)\n",
    "else:\n",
    "    print(0)\n",
    "\n",
    "qc.draw(output='mpl')"
   ]
  },
  {
   "cell_type": "code",
   "execution_count": 140,
   "metadata": {},
   "outputs": [],
   "source": [
    "# quantum modified gram-schmidt process\n",
    "def quantum_modified_gram_schmidt(vectors, error_rate=1e-2):\n",
    "    '''\n",
    "    quantum modified gram-schmidt process\n",
    "    vectors: input vectors, numpy array, vectors = [[v1], [v2], ..., [vn]]\n",
    "    error_rate: error rate of the process\n",
    "    '''\n",
    "    vector_size = len(vectors[0])\n",
    "    vector_number = len(vectors)\n",
    "    qubit_number = int(np.ceil(np.log2(vector_size))) # qubit number for the 2nd register\n",
    "    if 2 ** qubit_number < vector_size:\n",
    "        qubit_number += 1\n",
    "    total_qubit_number = qubit_number + 1 # qubit number for the quantum circuit\n",
    "    max_runtime_of_circuit = int(np.log(1/error_rate) / error_rate)\n",
    "\n",
    "    first_constructed_vector = vectors[0] / np.linalg.norm(vectors[0])\n",
    "    first_constructed_vector_extended = np.concatenate((first_constructed_vector, np.zeros(2 ** qubit_number - vector_size)))\n",
    "    # print(first_constructed_vector_extended)\n",
    "\n",
    "    constructed_basis = [first_constructed_vector]\n",
    "\n",
    "    current_hamiltonian = np.zeros((2**(total_qubit_number), 2**(total_qubit_number)), dtype=complex)\n",
    "    current_hamiltonian += np.kron(np.outer(np.conjugate(first_constructed_vector_extended), first_constructed_vector_extended), np.array([[0, 0], [0, 1]], dtype=complex))\n",
    "    # print(current_hamiltonian)\n",
    "    # print(total_qubit_number)\n",
    "    qubit_list = [i for i in range(total_qubit_number)]\n",
    "\n",
    "    for i in range(1, vector_number):\n",
    "        v = vectors[i] / np.linalg.norm(vectors[i]) # normalize input state\n",
    "        v = np.concatenate((v, np.zeros(2 ** qubit_number - vector_size))) # input state as amplitude encoding\n",
    "        count = 0\n",
    "        qc = QuantumCircuit(total_qubit_number, 1)\n",
    "        qc.initialize(v, range(1, total_qubit_number))\n",
    "        qc.h(0)\n",
    "        qc.hamiltonian(current_hamiltonian, np.pi, qubit_list, label='Hami')\n",
    "        qc.h(0)\n",
    "        qc.measure(0, 0)\n",
    "        while count < max_runtime_of_circuit:\n",
    "            simulator = Aer.get_backend('statevector_simulator')\n",
    "            job = execute(qc, simulator, shots=1)\n",
    "            result = job.result()\n",
    "            if '0' in result.get_counts().keys():\n",
    "                statevector = np.asarray(result.get_statevector()) \n",
    "                # print(statevector)\n",
    "                current_hamiltonian += np.outer(np.conjugate(statevector), statevector)\n",
    "                reduced_statevector = np.zeros(vector_size, dtype=complex)\n",
    "                for j in range(vector_size):\n",
    "                    reduced_statevector[j] = statevector[2 * j]\n",
    "                constructed_basis.append(reduced_statevector)\n",
    "                # print(count)\n",
    "                break\n",
    "            else:\n",
    "                count += 1\n",
    "    return qc, constructed_basis"
   ]
  },
  {
   "cell_type": "code",
   "execution_count": 141,
   "metadata": {},
   "outputs": [
    {
     "name": "stdout",
     "output_type": "stream",
     "text": [
      "[[0.92089465 0.47640436 0.3807715  0.36337574 0.16501301 0.92719924]\n",
      " [0.03536577 0.21796333 0.5276284  0.609546   0.64184371 0.81462537]\n",
      " [0.42428901 0.6319975  0.41750177 0.40256728 0.34409786 0.24056901]\n",
      " [0.15477466 0.29961915 0.78367472 0.82671529 0.20229288 0.91094538]\n",
      " [0.54340494 0.27836939 0.42451759 0.84477613 0.00471886 0.12156912]\n",
      " [0.87881444 0.27220706 0.76509005 0.33140447 0.79206176 0.42221378]]\n",
      "[[2.23896464 1.4200395  1.27690382 1.76208911 1.21514791 1.87290176]\n",
      " [1.4200395  1.77427465 1.03525732 1.86010938 0.92087176 1.54842653]\n",
      " [1.27690382 1.03525732 1.09208693 1.20377562 0.95467509 1.37186284]\n",
      " [1.76208911 1.86010938 1.20377562 2.28207496 1.31028058 1.63597767]\n",
      " [1.21514791 0.92087176 0.95467509 1.31028058 1.28144166 1.21314877]\n",
      " [1.87290176 1.54842653 1.37186284 1.63597767 1.21314877 2.34722952]]\n"
     ]
    }
   ],
   "source": [
    "vector_size = 6\n",
    "vector_number = vector_size\n",
    "vectors = []\n",
    "for i in range(vector_number):\n",
    "    np.random.seed(np.random.randint(0, 1000))\n",
    "    tmp = np.random.rand(vector_size)\n",
    "    vectors.append(tmp)\n",
    "vectors = np.array(vectors)\n",
    "print(vectors)\n",
    "overlap_matrix = np.dot(vectors, vectors.T)\n",
    "print(overlap_matrix)"
   ]
  },
  {
   "cell_type": "code",
   "execution_count": 145,
   "metadata": {},
   "outputs": [
    {
     "name": "stdout",
     "output_type": "stream",
     "text": [
      "loss of orthogonality ||QQ^T-I||= 5.4265275846626546e-15\n"
     ]
    },
    {
     "data": {
      "image/png": "[encoded data removed]",
      "text/plain": [
       "<Figure size 872.774x451.5 with 1 Axes>"
      ]
     },
     "execution_count": 145,
     "metadata": {},
     "output_type": "execute_result"
    }
   ],
   "source": [
    "qc, orthogonal_basis = quantum_modified_gram_schmidt(vectors)\n",
    "# print(orthogonal_basis)\n",
    "orthogonal_basis = np.array(orthogonal_basis)\n",
    "print(f'loss of orthogonality ||QQ^T-I||= {np.linalg.norm(np.dot(orthogonal_basis, orthogonal_basis.T) - np.eye(vector_number))}')\n",
    "qc.draw(output='mpl')"
   ]
  }
 ],
 "metadata": {
  "kernelspec": {
   "display_name": "ODE",
   "language": "python",
   "name": "python3"
  },
  "language_info": {
   "codemirror_mode": {
    "name": "ipython",
    "version": 3
   },
   "file_extension": ".py",
   "mimetype": "text/x-python",
   "name": "python",
   "nbconvert_exporter": "python",
   "pygments_lexer": "ipython3",
   "version": "3.8.17"
  }
 },
 "nbformat": 4,
 "nbformat_minor": 2
}
